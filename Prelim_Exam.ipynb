{
  "nbformat": 4,
  "nbformat_minor": 0,
  "metadata": {
    "colab": {
      "name": "Prelim Exam.ipynb",
      "provenance": [],
      "authorship_tag": "ABX9TyPopWVUl/S9jE328+vRzObZ",
      "include_colab_link": true
    },
    "kernelspec": {
      "name": "python3",
      "display_name": "Python 3"
    },
    "language_info": {
      "name": "python"
    }
  },
  "cells": [
    {
      "cell_type": "markdown",
      "metadata": {
        "id": "view-in-github",
        "colab_type": "text"
      },
      "source": [
        "<a href=\"https://colab.research.google.com/github/hannsjaspherelalto/OOP-1-2/blob/main/Prelim_Exam.ipynb\" target=\"_parent\"><img src=\"https://colab.research.google.com/assets/colab-badge.svg\" alt=\"Open In Colab\"/></a>"
      ]
    },
    {
      "cell_type": "code",
      "execution_count": 27,
      "metadata": {
        "colab": {
          "base_uri": "https://localhost:8080/"
        },
        "id": "aGxltjkRYfAg",
        "outputId": "cce926fb-9875-4d3d-a491-194a1ee38aa1"
      },
      "outputs": [
        {
          "output_type": "stream",
          "name": "stdout",
          "text": [
            "Hanns Jaspher A. Elalto\n",
            "202101663\n",
            "19\n",
            "Cavite State University - Main Campus\n",
            "Bachelor of Science in Computer Engineering\n"
          ]
        }
      ],
      "source": [
        "class Student:\n",
        "  def __init__(self, Name, Student_No, Age, School, Course):\n",
        "    self.Name = Name\n",
        "    self.Student_No = Student_No\n",
        "    self.Age = Age\n",
        "    self.School = School\n",
        "    self.Course = Course\n",
        "\n",
        "class MyInfo(Student): #instantiation of a class\n",
        "  def Info(self):\n",
        "    print(self.Name)\n",
        "    print(self.Student_No)\n",
        "    print(self.Age)\n",
        "    print(self.School)\n",
        "    print(self.Course)\n",
        "\n",
        "Myself = MyInfo(\"Hanns Jaspher A. Elalto\", \"202101663\", \"19\", \"Cavite State University - Main Campus\",\n",
        "                \"Bachelor of Science in Computer Engineering\")\n",
        "\n",
        "Myself.Info()"
      ]
    }
  ]
}