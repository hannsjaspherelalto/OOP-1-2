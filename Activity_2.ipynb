{
  "nbformat": 4,
  "nbformat_minor": 0,
  "metadata": {
    "colab": {
      "name": "Activity 2.ipynb",
      "provenance": [],
      "authorship_tag": "ABX9TyOviubATRLJJQU1jbpGizOt",
      "include_colab_link": true
    },
    "kernelspec": {
      "name": "python3",
      "display_name": "Python 3"
    },
    "language_info": {
      "name": "python"
    }
  },
  "cells": [
    {
      "cell_type": "markdown",
      "metadata": {
        "id": "view-in-github",
        "colab_type": "text"
      },
      "source": [
        "<a href=\"https://colab.research.google.com/github/hannsjaspherelalto/OOP-1-2/blob/main/Activity_2.ipynb\" target=\"_parent\"><img src=\"https://colab.research.google.com/assets/colab-badge.svg\" alt=\"Open In Colab\"/></a>"
      ]
    },
    {
      "cell_type": "code",
      "execution_count": 14,
      "metadata": {
        "colab": {
          "base_uri": "https://localhost:8080/"
        },
        "id": "FPHco-fETAp1",
        "outputId": "d28e9ef0-512c-4eb2-8a33-2a4a32d970a2"
      },
      "outputs": [
        {
          "name": "stdout",
          "output_type": "stream",
          "text": [
            "42.5\n"
          ]
        },
        {
          "output_type": "execute_result",
          "data": {
            "text/plain": [
              "108.5"
            ]
          },
          "metadata": {},
          "execution_count": 14
        }
      ],
      "source": [
        "#Write a program that converts the temperature Celsius to Farenheit. Create a class named Temperature. \n",
        "#Create Celsius as an attribute name, Temp() as a method, and temp1 as an object name.\n",
        "\n",
        "\n",
        "class Temperature:\n",
        "  def __init__(self, Celsius):\n",
        "    self.Celsius = Celsius\n",
        "\n",
        "  def Temp(self):\n",
        "    return ((self.Celsius * 1.8)+32)\n",
        "\n",
        "temp1 = Temperature(float(input()))\n",
        "\n",
        "temp1.Temp()"
      ]
    },
    {
      "cell_type": "code",
      "source": [
        "#Define an Area() method of the class that calculates the circle’s area.\n",
        "#Define a Perimeter() method of the class which allows you to calculate the perimeter of the circle.\n",
        "\n",
        "import math\n",
        "\n",
        "class circle:\n",
        "  def __init__(self, radius):\n",
        "    self.radius = radius\n",
        "\n",
        "  def Area(self):\n",
        "    return(((self.radius**2)*math.pi))\n",
        "\n",
        "  def Perimeter(self):\n",
        "    return(self.radius*2*math.pi)\n",
        "\n",
        "rad_input = circle(float(input(\"Radius: \")))\n",
        "\n",
        "print(\"\\nPerimeter  : \" + str(rad_input.Perimeter()))\n",
        "print(\"Area       : \" + str(rad_input.Area()))"
      ],
      "metadata": {
        "colab": {
          "base_uri": "https://localhost:8080/"
        },
        "id": "vx-IrPDZfvsi",
        "outputId": "036d9c0a-30b2-4dca-b9ed-0efd5661ec92"
      },
      "execution_count": 1,
      "outputs": [
        {
          "output_type": "stream",
          "name": "stdout",
          "text": [
            "Radius: 5\n",
            "\n",
            "Perimeter  : 31.41592653589793\n",
            "Area       : 78.53981633974483\n"
          ]
        }
      ]
    }
  ]
}