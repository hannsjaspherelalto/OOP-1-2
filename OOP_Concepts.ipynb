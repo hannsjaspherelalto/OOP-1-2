{
  "nbformat": 4,
  "nbformat_minor": 0,
  "metadata": {
    "colab": {
      "name": "OOP Concepts.ipynb",
      "provenance": [],
      "authorship_tag": "ABX9TyPGjogdtUghDEhvZHQPPpM9",
      "include_colab_link": true
    },
    "kernelspec": {
      "name": "python3",
      "display_name": "Python 3"
    },
    "language_info": {
      "name": "python"
    }
  },
  "cells": [
    {
      "cell_type": "markdown",
      "metadata": {
        "id": "view-in-github",
        "colab_type": "text"
      },
      "source": [
        "<a href=\"https://colab.research.google.com/github/hannsjaspherelalto/OOP-1-2/blob/main/OOP_Concepts.ipynb\" target=\"_parent\"><img src=\"https://colab.research.google.com/assets/colab-badge.svg\" alt=\"Open In Colab\"/></a>"
      ]
    },
    {
      "cell_type": "markdown",
      "source": [
        "Phyton Classes and Objects"
      ],
      "metadata": {
        "id": "lJPBPb0lSDuU"
      }
    },
    {
      "cell_type": "code",
      "source": [
        "class MyClass:\n",
        "  pass"
      ],
      "metadata": {
        "id": "AWXULGKgSJcS"
      },
      "execution_count": 3,
      "outputs": []
    },
    {
      "cell_type": "code",
      "source": [
        "class OOP1_2:\n",
        "  x=5\n",
        "  print(x)"
      ],
      "metadata": {
        "colab": {
          "base_uri": "https://localhost:8080/"
        },
        "id": "iZ5M4gj4St8y",
        "outputId": "8c89e56c-355f-423e-849e-d62b3f422173"
      },
      "execution_count": 4,
      "outputs": [
        {
          "output_type": "stream",
          "name": "stdout",
          "text": [
            "5\n"
          ]
        }
      ]
    },
    {
      "cell_type": "code",
      "source": [
        "#creating objects\n",
        "\n",
        "class OOP1_2:\n",
        "  def __init__(self,name,age):\n",
        "    self.name = name\n",
        "    self.age = age\n",
        "\n",
        "  def identity(self):\n",
        "    print(self.name, self.age)\n",
        "\n",
        "person = OOP1_2(\"Hanns\", 19)\n",
        "\n",
        "print(person.name)\n",
        "print(person.age)\n",
        "print(person.identity)"
      ],
      "metadata": {
        "colab": {
          "base_uri": "https://localhost:8080/"
        },
        "id": "wbzYJ57hTL1R",
        "outputId": "06893660-8f9b-4b0c-c324-66f83b193d4f"
      },
      "execution_count": 25,
      "outputs": [
        {
          "output_type": "stream",
          "name": "stdout",
          "text": [
            "Hanns\n",
            "19\n",
            "<bound method OOP1_2.identity of <__main__.OOP1_2 object at 0x7f341075e650>>\n"
          ]
        }
      ]
    },
    {
      "cell_type": "code",
      "source": [
        "#modifying object name\n",
        "\n",
        "person.name = \"Jaspher\"\n",
        "print(person.name)\n",
        "print(person.age)"
      ],
      "metadata": {
        "colab": {
          "base_uri": "https://localhost:8080/"
        },
        "id": "G-t22Kz4WQOT",
        "outputId": "5c1a9a04-23d8-4abc-bfe9-5653127209f3"
      },
      "execution_count": 26,
      "outputs": [
        {
          "output_type": "stream",
          "name": "stdout",
          "text": [
            "Jaspher\n",
            "19\n"
          ]
        }
      ]
    },
    {
      "cell_type": "code",
      "source": [
        "person.age = 246254\n",
        "print(person.name)\n",
        "print(person.age)"
      ],
      "metadata": {
        "colab": {
          "base_uri": "https://localhost:8080/"
        },
        "id": "UNzCf03sW2gA",
        "outputId": "3937e92e-6791-45cc-d23c-bb8540e6c06c"
      },
      "execution_count": 27,
      "outputs": [
        {
          "output_type": "stream",
          "name": "stdout",
          "text": [
            "Jaspher\n",
            "246254\n"
          ]
        }
      ]
    },
    {
      "cell_type": "code",
      "source": [
        "#deleting objects\n",
        "\n",
        "del person.name"
      ],
      "metadata": {
        "id": "kRHpXhm1W8dH"
      },
      "execution_count": 28,
      "outputs": []
    },
    {
      "cell_type": "code",
      "source": [
        "print(person.name)"
      ],
      "metadata": {
        "colab": {
          "base_uri": "https://localhost:8080/",
          "height": 171
        },
        "id": "Pc7BPeoAXH1_",
        "outputId": "03ffc160-27c1-4643-8fe0-f04a34e62284"
      },
      "execution_count": 29,
      "outputs": [
        {
          "output_type": "error",
          "ename": "AttributeError",
          "evalue": "ignored",
          "traceback": [
            "\u001b[0;31m---------------------------------------------------------------------------\u001b[0m",
            "\u001b[0;31mAttributeError\u001b[0m                            Traceback (most recent call last)",
            "\u001b[0;32m<ipython-input-29-8da234c70cac>\u001b[0m in \u001b[0;36m<module>\u001b[0;34m()\u001b[0m\n\u001b[0;32m----> 1\u001b[0;31m \u001b[0mprint\u001b[0m\u001b[0;34m(\u001b[0m\u001b[0mperson\u001b[0m\u001b[0;34m.\u001b[0m\u001b[0mname\u001b[0m\u001b[0;34m)\u001b[0m\u001b[0;34m\u001b[0m\u001b[0;34m\u001b[0m\u001b[0m\n\u001b[0m",
            "\u001b[0;31mAttributeError\u001b[0m: 'OOP1_2' object has no attribute 'name'"
          ]
        }
      ]
    },
    {
      "cell_type": "code",
      "source": [
        "print(person.age)"
      ],
      "metadata": {
        "colab": {
          "base_uri": "https://localhost:8080/"
        },
        "id": "q0inALlIXZJt",
        "outputId": "834fbde1-1e0b-44c1-afa4-07d120afe28e"
      },
      "execution_count": 30,
      "outputs": [
        {
          "output_type": "stream",
          "name": "stdout",
          "text": [
            "246254\n"
          ]
        }
      ]
    },
    {
      "cell_type": "markdown",
      "source": [
        "Application 1 - write a python program which computes the area of a square and names its class as square, and sides as attributes."
      ],
      "metadata": {
        "id": "vxtLryAuXkGZ"
      }
    },
    {
      "cell_type": "code",
      "source": [
        "class Square:\n",
        "  def __init__(self, sides):\n",
        "    self.sides = sides\n",
        "\n",
        "  def area(self):\n",
        "    return self.sides*self.sides\n",
        "\n",
        "  def display(self):\n",
        "    print(\"The area is: \", self.area())\n",
        "\n",
        "square = Square(4)\n",
        "\n",
        "square.display()\n",
        "square.area()"
      ],
      "metadata": {
        "colab": {
          "base_uri": "https://localhost:8080/"
        },
        "id": "pNBHrgADXlZW",
        "outputId": "7636069f-7aa3-4570-f245-97e75451e97f"
      },
      "execution_count": 47,
      "outputs": [
        {
          "output_type": "stream",
          "name": "stdout",
          "text": [
            "The area is:  16\n"
          ]
        },
        {
          "output_type": "execute_result",
          "data": {
            "text/plain": [
              "16"
            ]
          },
          "metadata": {},
          "execution_count": 47
        }
      ]
    },
    {
      "cell_type": "markdown",
      "source": [
        "Application 2 - write a python program that displays your full name, age, course, and school.\n",
        "Create a class namned MyClass, and name, age, course, school as attributes."
      ],
      "metadata": {
        "id": "yv80DgRMbnxr"
      }
    },
    {
      "cell_type": "code",
      "source": [
        "class MyClass:\n",
        "  def __init__(self, flname, age, course, school):\n",
        "    self.flname = flname\n",
        "    self.age = age\n",
        "    self.course = course\n",
        "    self.school = school\n",
        "\n",
        "info = MyClass (\"Hanns Jaspher A. Elalto\", 19, \"BSCpE\", \"CvSU\")\n",
        "\n",
        "print(info.flname + \"\\n\" + str(info.age) + \"\\n\" + info.course + \"\\n\" + info.school)"
      ],
      "metadata": {
        "colab": {
          "base_uri": "https://localhost:8080/"
        },
        "id": "uuNT5KIZbnCF",
        "outputId": "6fb33177-a53c-4f05-a391-e51ebb7acd48"
      },
      "execution_count": 58,
      "outputs": [
        {
          "output_type": "stream",
          "name": "stdout",
          "text": [
            "Hanns Jaspher A. Elalto\n",
            "19\n",
            "BSCpE\n",
            "CvSU\n"
          ]
        }
      ]
    }
  ]
}