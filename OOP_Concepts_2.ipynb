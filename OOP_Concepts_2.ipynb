{
  "nbformat": 4,
  "nbformat_minor": 0,
  "metadata": {
    "colab": {
      "name": "OOP Concepts 2.ipynb",
      "provenance": [],
      "collapsed_sections": [],
      "authorship_tag": "ABX9TyMY4Xj1Qu2tGOj53RI6MT+U",
      "include_colab_link": true
    },
    "kernelspec": {
      "name": "python3",
      "display_name": "Python 3"
    },
    "language_info": {
      "name": "python"
    }
  },
  "cells": [
    {
      "cell_type": "markdown",
      "metadata": {
        "id": "view-in-github",
        "colab_type": "text"
      },
      "source": [
        "<a href=\"https://colab.research.google.com/github/hannsjaspherelalto/OOP-1-2/blob/main/OOP_Concepts_2.ipynb\" target=\"_parent\"><img src=\"https://colab.research.google.com/assets/colab-badge.svg\" alt=\"Open In Colab\"/></a>"
      ]
    },
    {
      "cell_type": "code",
      "source": [
        "class Person:\n",
        "  def __init__(self, name, pre, mid, fin):\n",
        "    self._name = name\n",
        "    self._pre = pre         #<-encapsulation\n",
        "    self._mid = mid\n",
        "    self._fin = fin\n",
        "\n",
        "class Student1(Person):     #<-inheritance\n",
        "  def Grade(self):          #<-polymorphism\n",
        "    ave = 0\n",
        "    ave = ((self._pre + self._mid + self._fin)/3)\n",
        "    print((\"-\"*20 + \"\\n\") + \"Preliminaries: \" + str(self._pre))\n",
        "    print(\"Midterms     : \" + str(self._mid))\n",
        "    print(\"Finals       : \" + str(self._fin))\n",
        "    print(\"Average      : \" + str(round(ave,2)))\n",
        "\n",
        "class Student2(Person):     #<-inheritance\n",
        "  def Grade(self):          #<-polymorphism\n",
        "    ave = 0\n",
        "    ave = ((self._pre*0.30) + (self._mid*0.30) + (self._fin*0.40))\n",
        "    print((\"-\"*20 + \"\\n\") + \"Preliminaries: \" + str(self._pre))\n",
        "    print(\"Midterms     : \" + str(self._mid))\n",
        "    print(\"Finals       : \" + str(self._fin))\n",
        "    print((\"-\"*20 + \"\\n\") + \"Average      : \" + str(round(ave,2)))\n",
        "\n",
        "class Student3(Person):     #<-inheritance\n",
        "  def Grade(self):          #<-polymorphism\n",
        "    ave = 0\n",
        "    ave = ((self._pre*0.25) + (self._mid*0.25) + (self._fin*0.50))\n",
        "    print((\"-\"*20 + \"\\n\") + \"Preliminaries: \" + str(self._pre))\n",
        "    print(\"Midterms     : \" + str(self._mid))\n",
        "    print(\"Finals       : \" + str(self._fin))\n",
        "    print((\"-\"*20 + \"\\n\") + \"Average      : \" + str(round(ave,2)))\n",
        "\n",
        "std1 = Student1(\"Hanns\", 90, 87, 94)\n",
        "std2 = Student2(\"Jaspher\", 89, 86, 91)\n",
        "std3 = Student3(\"Elalto\", 100, 79, 73)\n",
        "\n",
        "in_name = (input(\"Student Name: \"))\n",
        "\n",
        "if in_name == \"Hanns\":\n",
        "  std1.Grade()                            #student names are required\n",
        "elif in_name == \"Jaspher\":                #for the privacy of grades\n",
        "  std2.Grade()\n",
        "elif in_name == \"Elalto\":\n",
        "  std3.Grade()\n",
        "else:\n",
        "  print(\"The student's name is not on the database.\")"
      ],
      "metadata": {
        "colab": {
          "base_uri": "https://localhost:8080/"
        },
        "id": "daGyoWSVOI7T",
        "outputId": "889f2af6-a4ce-41dc-bc86-3dfdcb0f2e58"
      },
      "execution_count": null,
      "outputs": [
        {
          "output_type": "stream",
          "name": "stdout",
          "text": [
            "Student Name: Elalto\n",
            "--------------------\n",
            "Preliminaries: 100\n",
            "Midterms     : 79\n",
            "Finals       : 73\n",
            "--------------------\n",
            "Average      : 81.25\n"
          ]
        }
      ]
    }
  ]
}