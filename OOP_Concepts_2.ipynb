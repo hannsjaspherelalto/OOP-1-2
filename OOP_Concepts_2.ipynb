{
  "nbformat": 4,
  "nbformat_minor": 0,
  "metadata": {
    "colab": {
      "name": "OOP_Concepts-2.ipynb",
      "provenance": [],
      "collapsed_sections": [],
      "authorship_tag": "ABX9TyMRzUSKP0Bw2z1KsJg6DP/h",
      "include_colab_link": true
    },
    "kernelspec": {
      "name": "python3",
      "display_name": "Python 3"
    },
    "language_info": {
      "name": "python"
    }
  },
  "cells": [
    {
      "cell_type": "markdown",
      "metadata": {
        "id": "view-in-github",
        "colab_type": "text"
      },
      "source": [
        "<a href=\"https://colab.research.google.com/github/hannsjaspherelalto/OOP-1-2/blob/main/OOP_Concepts_2.ipynb\" target=\"_parent\"><img src=\"https://colab.research.google.com/assets/colab-badge.svg\" alt=\"Open In Colab\"/></a>"
      ]
    },
    {
      "cell_type": "code",
      "source": [
        "class Birds:\n",
        "  def __init__(self,bird_name):\n",
        "    self.bird_name = bird_name\n",
        "\n",
        "  def flying_birds(self):\n",
        "    print(f\"{self.bird_name} flies above the sky\")\n",
        "\n",
        "  def non_flying_birds(self):\n",
        "    print(f\"{self.bird_name} is the national bird of the Philippines\")\n",
        "\n",
        "vulture = Birds(\"Vulture\")\n",
        "crane = Birds(\"Crane\")\n",
        "emu = Birds(\"Emumu\")\n",
        "\n",
        "vulture.flying_birds()\n",
        "crane.flying_birds()\n",
        "emu.non_flying_birds()"
      ],
      "metadata": {
        "colab": {
          "base_uri": "https://localhost:8080/"
        },
        "id": "rniubDPje2QU",
        "outputId": "e6c51d0c-6ecf-4346-cba8-4f273dbf4c68"
      },
      "execution_count": null,
      "outputs": [
        {
          "output_type": "stream",
          "name": "stdout",
          "text": [
            "Vulture flies above the sky\n",
            "Crane flies above the sky\n",
            "Emumu is the national bird of the Philippines\n"
          ]
        }
      ]
    },
    {
      "cell_type": "code",
      "source": [
        "class foo:\n",
        "  def __init__(self,a,b):\n",
        "    self.__a = a\n",
        "    self.__b = b\n",
        "  \n",
        "  def add(self):\n",
        "    return self.__a +self.__b\n",
        "\n",
        "number = foo(3,4)\n",
        "number.add()\n",
        "\n",
        "number.a = 7\n",
        "number.add()"
      ],
      "metadata": {
        "colab": {
          "base_uri": "https://localhost:8080/"
        },
        "id": "87yNH8gle5N6",
        "outputId": "0ce246e7-89ad-487e-f2d8-e8ab8001a08c"
      },
      "execution_count": null,
      "outputs": [
        {
          "output_type": "execute_result",
          "data": {
            "text/plain": [
              "7"
            ]
          },
          "metadata": {},
          "execution_count": 13
        }
      ]
    },
    {
      "cell_type": "code",
      "source": [
        "class Counter:\n",
        "  def __init__(self):\n",
        "    self.__current = 0\n",
        "\n",
        "  def increment(self):\n",
        "    self.__current +=1\n",
        "  def value(self):\n",
        "    return self.__current\n",
        "  def reset(self):\n",
        "    self.__current = 0\n",
        "\n",
        "num = Counter()\n",
        "\n",
        "num.increment()\n",
        "num.increment()\n",
        "num.increment()\n",
        "\n",
        "num.counter = 1\n",
        "\n",
        "\n",
        "num.value()"
      ],
      "metadata": {
        "colab": {
          "base_uri": "https://localhost:8080/"
        },
        "id": "pvN3bPqpe7hz",
        "outputId": "7c5b786e-c951-4720-d3b0-a7516b9d8727"
      },
      "execution_count": 2,
      "outputs": [
        {
          "output_type": "execute_result",
          "data": {
            "text/plain": [
              "3"
            ]
          },
          "metadata": {},
          "execution_count": 2
        }
      ]
    },
    {
      "cell_type": "code",
      "source": [
        "class Person:\n",
        "  def __init__(self, firstname,surname):\n",
        "    self.firstname = firstname\n",
        "    self.surname = surname\n",
        "\n",
        "  def printname(self):\n",
        "    print(self.firstname,self.surname)\n",
        "\n",
        "person = Person(\"Ana\", \"Santos\")\n",
        "person.printname()\n",
        "\n",
        "class Teacher(Person):\n",
        "  pass\n",
        "\n",
        "person2 = Teacher(\"Maria\", \"Sayo\")\n",
        "person2.printname()\n",
        "\n",
        "class Student(Person):\n",
        "  pass\n",
        "\n",
        "person3 = Student(\"Hanns\", \"Elalto\")\n",
        "person3.printname()"
      ],
      "metadata": {
        "colab": {
          "base_uri": "https://localhost:8080/"
        },
        "id": "8M3pcE41e9bS",
        "outputId": "7172404a-0f7f-4323-c403-b5f45d75e758"
      },
      "execution_count": null,
      "outputs": [
        {
          "output_type": "stream",
          "name": "stdout",
          "text": [
            "Ana Santos\n",
            "Maria Sayo\n",
            "Hanns Elalto\n"
          ]
        }
      ]
    },
    {
      "cell_type": "code",
      "source": [
        "class RegularPolygon:\n",
        "    def __init__(self,side):\n",
        "        self.side = side\n",
        "class Square(RegularPolygon):\n",
        "    def area(self):\n",
        "        return self.side * self.side\n",
        "class EquilateralTriangle(RegularPolygon):\n",
        "    def area(self):\n",
        "        return self.side * self.side * 0.433\n",
        "\n",
        "object = Square(4)\n",
        "print(object.area())\n",
        "\n",
        "object2 = EquilateralTriangle(3)\n",
        "print(object2.area())"
      ],
      "metadata": {
        "colab": {
          "base_uri": "https://localhost:8080/"
        },
        "id": "Hb0xFFwDe_Cb",
        "outputId": "b7bd6726-70b5-4537-8d57-abf2b4e936fc"
      },
      "execution_count": null,
      "outputs": [
        {
          "output_type": "stream",
          "name": "stdout",
          "text": [
            "16\n",
            "3.897\n"
          ]
        }
      ]
    },
    {
      "cell_type": "code",
      "source": [
        "class Person:\n",
        "  def __init__(self, name, pre, mid, fin):\n",
        "    self._name = name\n",
        "    self._pre = pre         #<-encapsulation\n",
        "    self._mid = mid\n",
        "    self._fin = fin\n",
        "\n",
        "class Student1(Person):     #<-inheritance\n",
        "  def Grade(self):          #<-polymorphism\n",
        "    ave = 0\n",
        "    ave = ((self._pre + self._mid + self._fin)/3)\n",
        "    print((\"-\"*20 + \"\\n\") + \"Preliminaries: \" + str(self._pre))\n",
        "    print(\"Midterms     : \" + str(self._mid))\n",
        "    print(\"Finals       : \" + str(self._fin))\n",
        "    print(\"Average      : \" + str(round(ave,2)))\n",
        "\n",
        "class Student2(Person):     #<-inheritance\n",
        "  def Grade(self):          #<-polymorphism\n",
        "    ave = 0\n",
        "    ave = ((self._pre*0.30) + (self._mid*0.30) + (self._fin*0.40))\n",
        "    print((\"-\"*20 + \"\\n\") + \"Preliminaries: \" + str(self._pre))\n",
        "    print(\"Midterms     : \" + str(self._mid))\n",
        "    print(\"Finals       : \" + str(self._fin))\n",
        "    print((\"-\"*20 + \"\\n\") + \"Average      : \" + str(round(ave,2)))\n",
        "\n",
        "class Student3(Person):     #<-inheritance\n",
        "  def Grade(self):          #<-polymorphism\n",
        "    ave = 0\n",
        "    ave = ((self._pre*0.25) + (self._mid*0.25) + (self._fin*0.50))\n",
        "    print((\"-\"*20 + \"\\n\") + \"Preliminaries: \" + str(self._pre))\n",
        "    print(\"Midterms     : \" + str(self._mid))\n",
        "    print(\"Finals       : \" + str(self._fin))\n",
        "    print((\"-\"*20 + \"\\n\") + \"Average      : \" + str(round(ave,2)))\n",
        "\n",
        "std1 = Student1(\"Hanns\", 90, 87, 94)\n",
        "std2 = Student2(\"Jaspher\", 89, 86, 91)\n",
        "std3 = Student3(\"Elalto\", 100, 79, 73)\n",
        "\n",
        "in_name = (input(\"Student Name: \"))\n",
        "\n",
        "if in_name == \"Hanns\":\n",
        "  std1.Grade()                            #student names are required\n",
        "elif in_name == \"Jaspher\":                #for the privacy of grades\n",
        "  std2.Grade()\n",
        "elif in_name == \"Elalto\":\n",
        "  std3.Grade()\n",
        "else:\n",
        "  print(\"The student's name is not on the database.\")"
      ],
      "metadata": {
        "colab": {
          "base_uri": "https://localhost:8080/"
        },
        "id": "vZNiFc-YfZfN",
        "outputId": "bcce4609-8db5-4f73-c43e-7b65f2feb726"
      },
      "execution_count": 4,
      "outputs": [
        {
          "output_type": "stream",
          "name": "stdout",
          "text": [
            "Student Name: Jaspher\n",
            "--------------------\n",
            "Preliminaries: 89\n",
            "Midterms     : 86\n",
            "Finals       : 91\n",
            "--------------------\n",
            "Average      : 88.9\n"
          ]
        }
      ]
    }
  ]
}