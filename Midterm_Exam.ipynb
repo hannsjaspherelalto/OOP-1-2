{
  "nbformat": 4,
  "nbformat_minor": 0,
  "metadata": {
    "colab": {
      "name": "Midterm Exam.ipynb",
      "provenance": [],
      "collapsed_sections": [],
      "authorship_tag": "ABX9TyPZrI5NUpro1JektBm0xUW+",
      "include_colab_link": true
    },
    "kernelspec": {
      "name": "python3",
      "display_name": "Python 3"
    },
    "language_info": {
      "name": "python"
    }
  },
  "cells": [
    {
      "cell_type": "markdown",
      "metadata": {
        "id": "view-in-github",
        "colab_type": "text"
      },
      "source": [
        "<a href=\"https://colab.research.google.com/github/hannsjaspherelalto/OOP-1-2/blob/main/Midterm_Exam.ipynb\" target=\"_parent\"><img src=\"https://colab.research.google.com/assets/colab-badge.svg\" alt=\"Open In Colab\"/></a>"
      ]
    },
    {
      "cell_type": "code",
      "execution_count": 30,
      "metadata": {
        "colab": {
          "base_uri": "https://localhost:8080/"
        },
        "id": "M0ugFvqBmupE",
        "outputId": "7070193c-1248-4138-bcf1-5d3500b1cf0d"
      },
      "outputs": [
        {
          "output_type": "stream",
          "name": "stdout",
          "text": [
            "Enter the temperature in Celsius: 56\n",
            "329.15 Kelvin\n",
            "132.8 Fahrenheit\n",
            "Enter the temperature in Farenheit: 45\n",
            "7.22 Celsius\n",
            "Enter the temperature in Kelvin: 954\n",
            "680.85 Celsius\n"
          ]
        }
      ],
      "source": [
        "def main():\n",
        " class TemperatureConversion:\n",
        "  def __init__(self, temp=1):\n",
        "   self._temp = temp\n",
        "\n",
        " class CelsiusToFahrenheit(TemperatureConversion):\n",
        "  def conversion(self):\n",
        "   return (self._temp * 9) / 5 + 32\n",
        "\n",
        " class CelsiusToKelvin(TemperatureConversion):\n",
        "  def conversion(self):\n",
        "   return self._temp + 273.15\n",
        "\n",
        " class FarenheitToCelsius(TemperatureConversion):\n",
        "  def conversion(self):\n",
        "   return (self._temp - 32) * (5/9)\n",
        "   \n",
        " class KelvinToCelsius(TemperatureConversion):\n",
        "  def conversion(self):\n",
        "   return self._temp - 273.15\n",
        "\n",
        " tempInCelsius = float(input(\"Enter the temperature in Celsius: \"))\n",
        " \n",
        " convert = CelsiusToKelvin(tempInCelsius)\n",
        " print(str(round(convert.conversion(), 2)) + \" Kelvin\")\n",
        "\n",
        " convert = CelsiusToFahrenheit(tempInCelsius)\n",
        " print(str(round(convert.conversion(), 2)) + \" Fahrenheit\")\n",
        "\n",
        " tempInFarenheit = float(input(\"Enter the temperature in Farenheit: \"))\n",
        " \n",
        " convert = FarenheitToCelsius(tempInFarenheit)\n",
        " print(str(round(convert.conversion(), 2)) + \" Celsius\")\n",
        "\n",
        " tempInKelvin = float(input(\"Enter the temperature in Kelvin: \"))\n",
        " \n",
        " convert = KelvinToCelsius(tempInKelvin)\n",
        " print(str(round(convert.conversion(), 2)) + \" Celsius\")\n",
        " \n",
        "\n",
        "main()"
      ]
    }
  ]
}